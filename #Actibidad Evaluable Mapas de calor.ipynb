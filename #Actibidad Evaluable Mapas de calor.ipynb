{
 "cells": [
  {
   "cell_type": "code",
   "execution_count": 1,
   "metadata": {},
   "outputs": [
    {
     "name": "stdout",
     "output_type": "stream",
     "text": [
      "                      user_name         user_location  \\\n",
      "0                        ᏉᎥ☻լꂅϮ            astroworld   \n",
      "1                 Tom Basile 🇺🇸          New York, NY   \n",
      "2               Time4fisticuffs      Pewee Valley, KY   \n",
      "3                   ethel mertz  Stuck in the Middle    \n",
      "4                      DIPR-J&K     Jammu and Kashmir   \n",
      "...                         ...                   ...   \n",
      "74431             Laura Wolfrom         Lexington, KY   \n",
      "74432  Professor Tonya M. Evans         😷 #stayathome   \n",
      "74433        People's Daily app           北京, 中华人民共和国   \n",
      "74434                     M0ser                   NaN   \n",
      "74435    Your Friend & Sabre ⚔️           Chicago, IL   \n",
      "\n",
      "                                        user_description         user_created  \\\n",
      "0      wednesday addams as a disney princess keepin i...  2017-05-26 05:46:42   \n",
      "1      Husband, Father, Columnist & Commentator. Auth...  2009-04-16 20:06:23   \n",
      "2      #Christian #Catholic #Conservative #Reagan #Re...  2009-02-28 18:57:41   \n",
      "3      #Browns #Indians #ClevelandProud #[]_[] #Cavs ...  2019-03-07 01:45:06   \n",
      "4      🖊️Official Twitter handle of Department of Inf...  2017-02-12 06:45:15   \n",
      "...                                                  ...                  ...   \n",
      "74431            The only things I collect are memories.  2010-09-24 02:01:15   \n",
      "74432  Law Prof @DickinsonLaw & Entrepreneur | Crypto...  2013-05-14 20:15:24   \n",
      "74433  Our mission is to provide news and perspective...  2018-02-04 12:36:42   \n",
      "74434  Reagan conservative and attorney raised in the...  2014-02-18 03:46:28   \n",
      "74435  My spectral decomposition has a significant da...  2016-12-19 19:55:00   \n",
      "\n",
      "       user_followers  user_friends  user_favourites  user_verified  \\\n",
      "0                 624           950            18775          False   \n",
      "1                2253          1677               24           True   \n",
      "2                9275          9525             7254          False   \n",
      "3                 197           987             1488          False   \n",
      "4              101009           168              101          False   \n",
      "...               ...           ...              ...            ...   \n",
      "74431              85           586             1902          False   \n",
      "74432            4289          1066            53569          False   \n",
      "74433            1413           102               16          False   \n",
      "74434            2554          1733           129104          False   \n",
      "74435             310          1748            60133          False   \n",
      "\n",
      "                      date                                               text  \\\n",
      "0      2020-07-25 12:27:21  If I smelled the scent of hand sanitizers toda...   \n",
      "1      2020-07-25 12:27:17  Hey @Yankees @YankeesPR and @MLB - wouldn't it...   \n",
      "2      2020-07-25 12:27:14  @diane3443 @wdunlap @realDonaldTrump Trump nev...   \n",
      "3      2020-07-25 12:27:10  @brookbanktv The one gift #COVID19 has give me...   \n",
      "4      2020-07-25 12:27:08  25 July : Media Bulletin on Novel #CoronaVirus...   \n",
      "...                    ...                                                ...   \n",
      "74431  2020-08-04 03:13:29  So far this summer I have filled up my lawn mo...   \n",
      "74432  2020-08-04 03:13:26  ICYMI: REPLAY: #TechIntersect🧩 #16: Isaiah \"@B...   \n",
      "74433  2020-08-04 03:13:22  Community workers in Tianshan District of Urum...   \n",
      "74434  2020-08-04 03:13:19  If only we had a responsible media to warn us ...   \n",
      "74435  2020-08-04 03:13:15  MAGA: #COVID19 is just a cold &amp; it'd be go...   \n",
      "\n",
      "                                      hashtags               source  \\\n",
      "0                                          NaN   Twitter for iPhone   \n",
      "1                                          NaN  Twitter for Android   \n",
      "2                                  ['COVID19']  Twitter for Android   \n",
      "3                                  ['COVID19']   Twitter for iPhone   \n",
      "4            ['CoronaVirusUpdates', 'COVID19']  Twitter for Android   \n",
      "...                                        ...                  ...   \n",
      "74431            ['COVID19', 'QuarantineLife']   Twitter for iPhone   \n",
      "74432  ['TechIntersect', 'Bitcoin', 'COVID19']      Twitter Web App   \n",
      "74433                    ['China', 'Xinjiang']      Twitter Web App   \n",
      "74434                              ['COVID19']   Twitter for iPhone   \n",
      "74435       ['COVID19', 'Hydroxycholoroquine']  Twitter for Android   \n",
      "\n",
      "       is_retweet  \n",
      "0           False  \n",
      "1           False  \n",
      "2           False  \n",
      "3           False  \n",
      "4           False  \n",
      "...           ...  \n",
      "74431       False  \n",
      "74432       False  \n",
      "74433       False  \n",
      "74434       False  \n",
      "74435       False  \n",
      "\n",
      "[74436 rows x 13 columns]\n"
     ]
    }
   ],
   "source": [
    "#Mauricio Hernández Matías A01651328\n",
    "#Actibidad Evaluable Mapas de calor\n",
    "import pandas as pd #Utilizamos la biblioteca pandas para obtener una función que en automático lea el csv\n",
    "datos=pd.read_csv(\"covid19_tweets.csv\")#Función para leer csv\n",
    "pd.set_option('display.max_rows',10)#aquí limitas el número de lineas (n-1) que mse mostrarán \n",
    "print(datos)#Esto sólo es necesario para mostrar lo que hace la función"
   ]
  },
  {
   "cell_type": "code",
   "execution_count": 2,
   "metadata": {},
   "outputs": [
    {
     "data": {
      "text/plain": [
       "Index(['user_name', 'user_location', 'user_description', 'user_created',\n",
       "       'user_followers', 'user_friends', 'user_favourites', 'user_verified',\n",
       "       'date', 'text', 'hashtags', 'source', 'is_retweet'],\n",
       "      dtype='object')"
      ]
     },
     "execution_count": 2,
     "metadata": {},
     "output_type": "execute_result"
    }
   ],
   "source": [
    "datos.columns"
   ]
  },
  {
   "cell_type": "code",
   "execution_count": 3,
   "metadata": {},
   "outputs": [
    {
     "data": {
      "text/html": [
       "<div>\n",
       "<style scoped>\n",
       "    .dataframe tbody tr th:only-of-type {\n",
       "        vertical-align: middle;\n",
       "    }\n",
       "\n",
       "    .dataframe tbody tr th {\n",
       "        vertical-align: top;\n",
       "    }\n",
       "\n",
       "    .dataframe thead th {\n",
       "        text-align: right;\n",
       "    }\n",
       "</style>\n",
       "<table border=\"1\" class=\"dataframe\">\n",
       "  <thead>\n",
       "    <tr style=\"text-align: right;\">\n",
       "      <th></th>\n",
       "      <th>user_followers</th>\n",
       "      <th>user_friends</th>\n",
       "      <th>user_favourites</th>\n",
       "    </tr>\n",
       "  </thead>\n",
       "  <tbody>\n",
       "    <tr>\n",
       "      <th>count</th>\n",
       "      <td>7.443600e+04</td>\n",
       "      <td>74436.000000</td>\n",
       "      <td>7.443600e+04</td>\n",
       "    </tr>\n",
       "    <tr>\n",
       "      <th>mean</th>\n",
       "      <td>1.059513e+05</td>\n",
       "      <td>2154.721170</td>\n",
       "      <td>1.529747e+04</td>\n",
       "    </tr>\n",
       "    <tr>\n",
       "      <th>std</th>\n",
       "      <td>8.222900e+05</td>\n",
       "      <td>9365.587474</td>\n",
       "      <td>4.668971e+04</td>\n",
       "    </tr>\n",
       "    <tr>\n",
       "      <th>min</th>\n",
       "      <td>0.000000e+00</td>\n",
       "      <td>0.000000</td>\n",
       "      <td>0.000000e+00</td>\n",
       "    </tr>\n",
       "    <tr>\n",
       "      <th>25%</th>\n",
       "      <td>1.660000e+02</td>\n",
       "      <td>153.000000</td>\n",
       "      <td>2.200000e+02</td>\n",
       "    </tr>\n",
       "    <tr>\n",
       "      <th>50%</th>\n",
       "      <td>9.600000e+02</td>\n",
       "      <td>552.000000</td>\n",
       "      <td>1.927000e+03</td>\n",
       "    </tr>\n",
       "    <tr>\n",
       "      <th>75%</th>\n",
       "      <td>5.148000e+03</td>\n",
       "      <td>1780.250000</td>\n",
       "      <td>1.014800e+04</td>\n",
       "    </tr>\n",
       "    <tr>\n",
       "      <th>max</th>\n",
       "      <td>1.389284e+07</td>\n",
       "      <td>497363.000000</td>\n",
       "      <td>2.047197e+06</td>\n",
       "    </tr>\n",
       "  </tbody>\n",
       "</table>\n",
       "</div>"
      ],
      "text/plain": [
       "       user_followers   user_friends  user_favourites\n",
       "count    7.443600e+04   74436.000000     7.443600e+04\n",
       "mean     1.059513e+05    2154.721170     1.529747e+04\n",
       "std      8.222900e+05    9365.587474     4.668971e+04\n",
       "min      0.000000e+00       0.000000     0.000000e+00\n",
       "25%      1.660000e+02     153.000000     2.200000e+02\n",
       "50%      9.600000e+02     552.000000     1.927000e+03\n",
       "75%      5.148000e+03    1780.250000     1.014800e+04\n",
       "max      1.389284e+07  497363.000000     2.047197e+06"
      ]
     },
     "execution_count": 3,
     "metadata": {},
     "output_type": "execute_result"
    }
   ],
   "source": [
    "datos.describe()"
   ]
  },
  {
   "cell_type": "code",
   "execution_count": 4,
   "metadata": {},
   "outputs": [
    {
     "data": {
      "image/png": "[encoded data removed]",
      "text/plain": [
       "<Figure size 720x1008 with 1 Axes>"
      ]
     },
     "metadata": {
      "needs_background": "light"
     },
     "output_type": "display_data"
    }
   ],
   "source": [
    "import matplotlib.pyplot as plt\n",
    "data_1 = datos['user_followers']\n",
    "data_2 = datos['user_friends']\n",
    "data_3 = datos['user_favourites']\n",
    "matrizGrafico = [data_1, data_2, data_3] \n",
    "fig = plt.figure(figsize=(10,14))\n",
    "ax = fig.add_axes([0, 0, 1, 1])\n",
    "bp = ax.boxplot(matrizGrafico)\n",
    "\n",
    "plt.show()\n"
   ]
  },
  {
   "cell_type": "code",
   "execution_count": 7,
   "metadata": {},
   "outputs": [
    {
     "data": {
      "image/png": "[encoded data removed]",
      "text/plain": [
       "<Figure size 432x288 with 2 Axes>"
      ]
     },
     "metadata": {
      "needs_background": "light"
     },
     "output_type": "display_data"
    }
   ],
   "source": [
    "import seaborn as sns   \n",
    "ax = sns.heatmap(matrizGrafico) "
   ]
  },
  {
   "cell_type": "code",
   "execution_count": null,
   "metadata": {},
   "outputs": [],
   "source": []
  }
 ],
 "metadata": {
  "kernelspec": {
   "display_name": "Python 3",
   "language": "python",
   "name": "python3"
  },
  "language_info": {
   "codemirror_mode": {
    "name": "ipython",
    "version": 3
   },
   "file_extension": ".py",
   "mimetype": "text/x-python",
   "name": "python",
   "nbconvert_exporter": "python",
   "pygments_lexer": "ipython3",
   "version": "3.8.3"
  }
 },
 "nbformat": 4,
 "nbformat_minor": 4
}

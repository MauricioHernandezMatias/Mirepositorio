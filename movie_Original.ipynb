{
 "cells": [
  {
   "cell_type": "code",
   "execution_count": 4,
   "metadata": {},
   "outputs": [
    {
     "name": "stdout",
     "output_type": "stream",
     "text": [
      "      color           director_name  num_critic_for_reviews  duration  \\\n",
      "0     Color          Frank Darabont                   199.0       142   \n",
      "1     Color    Francis Ford Coppola                   208.0       175   \n",
      "2     Color       Christopher Nolan                   645.0       152   \n",
      "3     Color    Francis Ford Coppola                   149.0       220   \n",
      "4     Color           Peter Jackson                   328.0       192   \n",
      "...     ...                     ...                     ...       ...   \n",
      "3810  Color  Preston A. Whitmore II                    25.0        95   \n",
      "3811  Color        Don Michael Paul                    25.0        93   \n",
      "3812  Color         Jason Friedberg                   111.0        88   \n",
      "3813  Color               Bob Clark                    32.0        88   \n",
      "3814  Color              Jon M. Chu                    84.0       115   \n",
      "\n",
      "      director_facebook_likes  actor_3_facebook_likes    actor_2_name  \\\n",
      "0                           0                   461.0  Jeffrey DeMunn   \n",
      "1                           0                  3000.0   Marlon Brando   \n",
      "2                       22000                 11000.0    Heath Ledger   \n",
      "3                           0                  3000.0       Al Pacino   \n",
      "4                           0                   416.0      Billy Boyd   \n",
      "...                       ...                     ...             ...   \n",
      "3810                       17                   255.0     Wayne Brady   \n",
      "3811                       70                   442.0     Faizon Love   \n",
      "3812                       82                   329.0        Tony Cox   \n",
      "3813                       84                   177.0   Vanessa Angel   \n",
      "3814                      209                    41.0   Sean Kingston   \n",
      "\n",
      "      actor_1_facebook_likes      gross                          genres  ...  \\\n",
      "0                    11000.0   28341469                     Crime|Drama  ...   \n",
      "1                    14000.0  134821952                     Crime|Drama  ...   \n",
      "2                    23000.0  533316061     Action|Crime|Drama|Thriller  ...   \n",
      "3                    22000.0   57300000                     Crime|Drama  ...   \n",
      "4                     5000.0  377019252  Action|Adventure|Drama|Fantasy  ...   \n",
      "...                      ...        ...                             ...  ...   \n",
      "3810                   592.0    7009668                    Action|Sport  ...   \n",
      "3811                   692.0    5694308                    Comedy|Sport  ...   \n",
      "3812                   869.0   14174654                          Comedy  ...   \n",
      "3813                   650.0    9109322            Comedy|Family|Sci-Fi  ...   \n",
      "3814                   569.0   73000942               Documentary|Music  ...   \n",
      "\n",
      "     num_user_for_reviews language  country  content_rating     budget  \\\n",
      "0                    4144  English      USA               R   25000000   \n",
      "1                    2238  English      USA               R    6000000   \n",
      "2                    4667  English      USA           PG-13  185000000   \n",
      "3                     650  English      USA               R   13000000   \n",
      "4                    3189  English      USA           PG-13   94000000   \n",
      "...                   ...      ...      ...             ...        ...   \n",
      "3810                   36  English      USA           PG-13    5600000   \n",
      "3811                   46  English      USA           PG-13    7000000   \n",
      "3812                  359  English      USA           PG-13   25000000   \n",
      "3813                  129  English  Germany              PG   20000000   \n",
      "3814                  233  English      USA               G   13000000   \n",
      "\n",
      "      title_year actor_2_facebook_likes imdb_score  aspect_ratio  \\\n",
      "0           1994                  745.0        9.3          1.85   \n",
      "1           1972                10000.0        9.2          1.85   \n",
      "2           2008                13000.0        9.0          2.35   \n",
      "3           1974                14000.0        9.0          1.85   \n",
      "4           2003                  857.0        8.9          2.35   \n",
      "...          ...                    ...        ...           ...   \n",
      "3810        2006                  378.0        2.1          1.85   \n",
      "3811        2007                  585.0        2.0          1.85   \n",
      "3812        2008                  624.0        1.9          1.85   \n",
      "3813        2004                  384.0        1.9          2.35   \n",
      "3814        2011                   69.0        1.6          1.85   \n",
      "\n",
      "     movie_facebook_likes  \n",
      "0                  108000  \n",
      "1                   43000  \n",
      "2                   37000  \n",
      "3                   14000  \n",
      "4                   16000  \n",
      "...                   ...  \n",
      "3810                  244  \n",
      "3811                  446  \n",
      "3812                    0  \n",
      "3813                    0  \n",
      "3814                62000  \n",
      "\n",
      "[3815 rows x 28 columns]\n"
     ]
    }
   ],
   "source": [
    "import pandas as pd #Utilizamos la biblioteca pandas para obtener una función que en automático lea el csv\n",
    "datos=pd.read_csv(\"movie_Original_limpio.csv\",encoding='latin1')#Función para leer csv\n",
    "pd.set_option('display.max_rows',10)#aquí limitas el número de lineas (n-1) que mse mostrarán \n",
    "print(datos)#Esto sólo es necesario para mostrar lo que hace la función"
   ]
  },
  {
   "cell_type": "code",
   "execution_count": 6,
   "metadata": {},
   "outputs": [
    {
     "data": {
      "text/html": [
       "<div>\n",
       "<style scoped>\n",
       "    .dataframe tbody tr th:only-of-type {\n",
       "        vertical-align: middle;\n",
       "    }\n",
       "\n",
       "    .dataframe tbody tr th {\n",
       "        vertical-align: top;\n",
       "    }\n",
       "\n",
       "    .dataframe thead th {\n",
       "        text-align: right;\n",
       "    }\n",
       "</style>\n",
       "<table border=\"1\" class=\"dataframe\">\n",
       "  <thead>\n",
       "    <tr style=\"text-align: right;\">\n",
       "      <th></th>\n",
       "      <th>num_critic_for_reviews</th>\n",
       "      <th>duration</th>\n",
       "      <th>director_facebook_likes</th>\n",
       "      <th>actor_3_facebook_likes</th>\n",
       "      <th>actor_1_facebook_likes</th>\n",
       "      <th>gross</th>\n",
       "      <th>num_voted_users</th>\n",
       "      <th>cast_total_facebook_likes</th>\n",
       "      <th>facenumber_in_poster</th>\n",
       "      <th>num_user_for_reviews</th>\n",
       "      <th>budget</th>\n",
       "      <th>title_year</th>\n",
       "      <th>actor_2_facebook_likes</th>\n",
       "      <th>imdb_score</th>\n",
       "      <th>aspect_ratio</th>\n",
       "      <th>movie_facebook_likes</th>\n",
       "    </tr>\n",
       "  </thead>\n",
       "  <tbody>\n",
       "    <tr>\n",
       "      <th>count</th>\n",
       "      <td>3814.000000</td>\n",
       "      <td>3815.000000</td>\n",
       "      <td>3815.000000</td>\n",
       "      <td>3807.000000</td>\n",
       "      <td>3814.000000</td>\n",
       "      <td>3.815000e+03</td>\n",
       "      <td>3.815000e+03</td>\n",
       "      <td>3815.000000</td>\n",
       "      <td>3809.000000</td>\n",
       "      <td>3815.000000</td>\n",
       "      <td>3.815000e+03</td>\n",
       "      <td>3815.000000</td>\n",
       "      <td>3812.000000</td>\n",
       "      <td>3815.000000</td>\n",
       "      <td>3815.000000</td>\n",
       "      <td>3815.000000</td>\n",
       "    </tr>\n",
       "    <tr>\n",
       "      <th>mean</th>\n",
       "      <td>165.850813</td>\n",
       "      <td>110.171953</td>\n",
       "      <td>796.130799</td>\n",
       "      <td>763.351983</td>\n",
       "      <td>7657.859203</td>\n",
       "      <td>5.200677e+07</td>\n",
       "      <td>1.045588e+05</td>\n",
       "      <td>11387.413106</td>\n",
       "      <td>1.377264</td>\n",
       "      <td>333.244299</td>\n",
       "      <td>4.582899e+07</td>\n",
       "      <td>2002.994758</td>\n",
       "      <td>1998.370672</td>\n",
       "      <td>6.466841</td>\n",
       "      <td>2.106110</td>\n",
       "      <td>9297.501442</td>\n",
       "    </tr>\n",
       "    <tr>\n",
       "      <th>std</th>\n",
       "      <td>123.790933</td>\n",
       "      <td>22.727445</td>\n",
       "      <td>3045.731063</td>\n",
       "      <td>1882.963588</td>\n",
       "      <td>15427.139814</td>\n",
       "      <td>7.015154e+07</td>\n",
       "      <td>1.515510e+05</td>\n",
       "      <td>19019.707874</td>\n",
       "      <td>2.052033</td>\n",
       "      <td>409.837929</td>\n",
       "      <td>2.243400e+08</td>\n",
       "      <td>10.012759</td>\n",
       "      <td>4518.910733</td>\n",
       "      <td>1.057023</td>\n",
       "      <td>0.271347</td>\n",
       "      <td>21478.190843</td>\n",
       "    </tr>\n",
       "    <tr>\n",
       "      <th>min</th>\n",
       "      <td>1.000000</td>\n",
       "      <td>37.000000</td>\n",
       "      <td>0.000000</td>\n",
       "      <td>0.000000</td>\n",
       "      <td>0.000000</td>\n",
       "      <td>1.620000e+02</td>\n",
       "      <td>5.000000e+00</td>\n",
       "      <td>0.000000</td>\n",
       "      <td>0.000000</td>\n",
       "      <td>1.000000</td>\n",
       "      <td>2.180000e+02</td>\n",
       "      <td>1920.000000</td>\n",
       "      <td>0.000000</td>\n",
       "      <td>1.600000</td>\n",
       "      <td>1.180000</td>\n",
       "      <td>0.000000</td>\n",
       "    </tr>\n",
       "    <tr>\n",
       "      <th>25%</th>\n",
       "      <td>75.000000</td>\n",
       "      <td>96.000000</td>\n",
       "      <td>10.000000</td>\n",
       "      <td>186.500000</td>\n",
       "      <td>731.500000</td>\n",
       "      <td>7.589867e+06</td>\n",
       "      <td>1.874450e+04</td>\n",
       "      <td>1859.000000</td>\n",
       "      <td>0.000000</td>\n",
       "      <td>107.000000</td>\n",
       "      <td>1.000000e+07</td>\n",
       "      <td>1999.000000</td>\n",
       "      <td>372.000000</td>\n",
       "      <td>5.900000</td>\n",
       "      <td>1.850000</td>\n",
       "      <td>0.000000</td>\n",
       "    </tr>\n",
       "    <tr>\n",
       "      <th>50%</th>\n",
       "      <td>137.000000</td>\n",
       "      <td>106.000000</td>\n",
       "      <td>62.000000</td>\n",
       "      <td>433.000000</td>\n",
       "      <td>1000.000000</td>\n",
       "      <td>2.913663e+07</td>\n",
       "      <td>5.295800e+04</td>\n",
       "      <td>3963.000000</td>\n",
       "      <td>1.000000</td>\n",
       "      <td>207.000000</td>\n",
       "      <td>2.500000e+07</td>\n",
       "      <td>2005.000000</td>\n",
       "      <td>680.000000</td>\n",
       "      <td>6.600000</td>\n",
       "      <td>2.350000</td>\n",
       "      <td>225.000000</td>\n",
       "    </tr>\n",
       "    <tr>\n",
       "      <th>75%</th>\n",
       "      <td>223.000000</td>\n",
       "      <td>120.000000</td>\n",
       "      <td>234.000000</td>\n",
       "      <td>690.000000</td>\n",
       "      <td>12000.000000</td>\n",
       "      <td>6.647820e+07</td>\n",
       "      <td>1.268195e+05</td>\n",
       "      <td>16123.000000</td>\n",
       "      <td>2.000000</td>\n",
       "      <td>396.000000</td>\n",
       "      <td>5.000000e+07</td>\n",
       "      <td>2010.000000</td>\n",
       "      <td>975.000000</td>\n",
       "      <td>7.200000</td>\n",
       "      <td>2.350000</td>\n",
       "      <td>11000.000000</td>\n",
       "    </tr>\n",
       "    <tr>\n",
       "      <th>max</th>\n",
       "      <td>813.000000</td>\n",
       "      <td>330.000000</td>\n",
       "      <td>23000.000000</td>\n",
       "      <td>23000.000000</td>\n",
       "      <td>640000.000000</td>\n",
       "      <td>7.605058e+08</td>\n",
       "      <td>1.689764e+06</td>\n",
       "      <td>656730.000000</td>\n",
       "      <td>43.000000</td>\n",
       "      <td>5060.000000</td>\n",
       "      <td>1.221550e+10</td>\n",
       "      <td>2016.000000</td>\n",
       "      <td>137000.000000</td>\n",
       "      <td>9.300000</td>\n",
       "      <td>2.760000</td>\n",
       "      <td>349000.000000</td>\n",
       "    </tr>\n",
       "  </tbody>\n",
       "</table>\n",
       "</div>"
      ],
      "text/plain": [
       "       num_critic_for_reviews     duration  director_facebook_likes  \\\n",
       "count             3814.000000  3815.000000              3815.000000   \n",
       "mean               165.850813   110.171953               796.130799   \n",
       "std                123.790933    22.727445              3045.731063   \n",
       "min                  1.000000    37.000000                 0.000000   \n",
       "25%                 75.000000    96.000000                10.000000   \n",
       "50%                137.000000   106.000000                62.000000   \n",
       "75%                223.000000   120.000000               234.000000   \n",
       "max                813.000000   330.000000             23000.000000   \n",
       "\n",
       "       actor_3_facebook_likes  actor_1_facebook_likes         gross  \\\n",
       "count             3807.000000             3814.000000  3.815000e+03   \n",
       "mean               763.351983             7657.859203  5.200677e+07   \n",
       "std               1882.963588            15427.139814  7.015154e+07   \n",
       "min                  0.000000                0.000000  1.620000e+02   \n",
       "25%                186.500000              731.500000  7.589867e+06   \n",
       "50%                433.000000             1000.000000  2.913663e+07   \n",
       "75%                690.000000            12000.000000  6.647820e+07   \n",
       "max              23000.000000           640000.000000  7.605058e+08   \n",
       "\n",
       "       num_voted_users  cast_total_facebook_likes  facenumber_in_poster  \\\n",
       "count     3.815000e+03                3815.000000           3809.000000   \n",
       "mean      1.045588e+05               11387.413106              1.377264   \n",
       "std       1.515510e+05               19019.707874              2.052033   \n",
       "min       5.000000e+00                   0.000000              0.000000   \n",
       "25%       1.874450e+04                1859.000000              0.000000   \n",
       "50%       5.295800e+04                3963.000000              1.000000   \n",
       "75%       1.268195e+05               16123.000000              2.000000   \n",
       "max       1.689764e+06              656730.000000             43.000000   \n",
       "\n",
       "       num_user_for_reviews        budget   title_year  \\\n",
       "count           3815.000000  3.815000e+03  3815.000000   \n",
       "mean             333.244299  4.582899e+07  2002.994758   \n",
       "std              409.837929  2.243400e+08    10.012759   \n",
       "min                1.000000  2.180000e+02  1920.000000   \n",
       "25%              107.000000  1.000000e+07  1999.000000   \n",
       "50%              207.000000  2.500000e+07  2005.000000   \n",
       "75%              396.000000  5.000000e+07  2010.000000   \n",
       "max             5060.000000  1.221550e+10  2016.000000   \n",
       "\n",
       "       actor_2_facebook_likes   imdb_score  aspect_ratio  movie_facebook_likes  \n",
       "count             3812.000000  3815.000000   3815.000000           3815.000000  \n",
       "mean              1998.370672     6.466841      2.106110           9297.501442  \n",
       "std               4518.910733     1.057023      0.271347          21478.190843  \n",
       "min                  0.000000     1.600000      1.180000              0.000000  \n",
       "25%                372.000000     5.900000      1.850000              0.000000  \n",
       "50%                680.000000     6.600000      2.350000            225.000000  \n",
       "75%                975.000000     7.200000      2.350000          11000.000000  \n",
       "max             137000.000000     9.300000      2.760000         349000.000000  "
      ]
     },
     "execution_count": 6,
     "metadata": {},
     "output_type": "execute_result"
    }
   ],
   "source": [
    "datos.describe()\n"
   ]
  },
  {
   "cell_type": "code",
   "execution_count": 7,
   "metadata": {},
   "outputs": [
    {
     "data": {
      "text/plain": [
       "Index(['color', 'director_name', 'num_critic_for_reviews', 'duration',\n",
       "       'director_facebook_likes', 'actor_3_facebook_likes', 'actor_2_name',\n",
       "       'actor_1_facebook_likes', 'gross', 'genres', 'actor_1_name',\n",
       "       'movie_title', 'num_voted_users', 'cast_total_facebook_likes',\n",
       "       'actor_3_name', 'facenumber_in_poster', 'plot_keywords',\n",
       "       'movie_imdb_link', 'num_user_for_reviews', 'language', 'country',\n",
       "       'content_rating', 'budget', 'title_year', 'actor_2_facebook_likes',\n",
       "       'imdb_score', 'aspect_ratio', 'movie_facebook_likes'],\n",
       "      dtype='object')"
      ]
     },
     "execution_count": 7,
     "metadata": {},
     "output_type": "execute_result"
    }
   ],
   "source": [
    "datos.columns"
   ]
  },
  {
   "cell_type": "code",
   "execution_count": 11,
   "metadata": {},
   "outputs": [
    {
     "data": {
      "text/plain": [
       "'Steven Spielberg'"
      ]
     },
     "execution_count": 11,
     "metadata": {},
     "output_type": "execute_result"
    }
   ],
   "source": [
    "datos['director_name'].value_counts().idxmax()"
   ]
  },
  {
   "cell_type": "code",
   "execution_count": 12,
   "metadata": {},
   "outputs": [
    {
     "data": {
      "text/plain": [
       "['Steven Spielberg',\n",
       " 'Clint Eastwood',\n",
       " 'Woody Allen',\n",
       " 'Ridley Scott',\n",
       " 'Martin Scorsese',\n",
       " 'Tim Burton',\n",
       " 'Steven Soderbergh',\n",
       " 'Spike Lee',\n",
       " 'Renny Harlin',\n",
       " 'Oliver Stone']"
      ]
     },
     "execution_count": 12,
     "metadata": {},
     "output_type": "execute_result"
    }
   ],
   "source": [
    "# get top 10 most frequent names\n",
    "n = 10\n",
    "datos['director_name'].value_counts()[:n].index.tolist()"
   ]
  },
  {
   "cell_type": "code",
   "execution_count": 19,
   "metadata": {},
   "outputs": [
    {
     "data": {
      "text/plain": [
       "Index(['actores'], dtype='object')"
      ]
     },
     "execution_count": 19,
     "metadata": {},
     "output_type": "execute_result"
    }
   ],
   "source": [
    "actores=pd.read_csv(\"actores.csv\",encoding='latin1')#Función para leer csv\n",
    "pd.set_option('display.max_rows',10)#aquí limitas el número de lineas (n-1) que mse mostrarán \n",
    "actores.columns"
   ]
  },
  {
   "cell_type": "code",
   "execution_count": 21,
   "metadata": {},
   "outputs": [
    {
     "data": {
      "text/plain": [
       "'Robert De Niro'"
      ]
     },
     "execution_count": 21,
     "metadata": {},
     "output_type": "execute_result"
    }
   ],
   "source": [
    "actores['actores'].value_counts().idxmax()"
   ]
  },
  {
   "cell_type": "code",
   "execution_count": 22,
   "metadata": {},
   "outputs": [
    {
     "data": {
      "text/plain": [
       "['Robert De Niro',\n",
       " 'Morgan Freeman',\n",
       " 'Johnny Depp',\n",
       " 'Bruce Willis',\n",
       " 'Matt Damon',\n",
       " 'Brad Pitt',\n",
       " 'Nicolas Cage',\n",
       " 'Bill Murray',\n",
       " 'Will Ferrell',\n",
       " 'Steve Buscemi']"
      ]
     },
     "execution_count": 22,
     "metadata": {},
     "output_type": "execute_result"
    }
   ],
   "source": [
    "n = 10\n",
    "actores['actores'].value_counts()[:n].index.tolist()"
   ]
  },
  {
   "cell_type": "code",
   "execution_count": null,
   "metadata": {},
   "outputs": [],
   "source": []
  }
 ],
 "metadata": {
  "kernelspec": {
   "display_name": "Python 3",
   "language": "python",
   "name": "python3"
  },
  "language_info": {
   "codemirror_mode": {
    "name": "ipython",
    "version": 3
   },
   "file_extension": ".py",
   "mimetype": "text/x-python",
   "name": "python",
   "nbconvert_exporter": "python",
   "pygments_lexer": "ipython3",
   "version": "3.8.3"
  }
 },
 "nbformat": 4,
 "nbformat_minor": 4
}
